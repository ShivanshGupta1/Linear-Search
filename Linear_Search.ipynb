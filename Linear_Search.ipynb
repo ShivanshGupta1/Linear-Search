{
  "nbformat": 4,
  "nbformat_minor": 0,
  "metadata": {
    "colab": {
      "name": "Linear Search.ipynb",
      "provenance": [],
      "authorship_tag": "ABX9TyPWaw6v4P3mp0jyb5eFYjpx",
      "include_colab_link": true
    },
    "kernelspec": {
      "name": "python3",
      "display_name": "Python 3"
    },
    "language_info": {
      "name": "python"
    }
  },
  "cells": [
    {
      "cell_type": "markdown",
      "metadata": {
        "id": "view-in-github",
        "colab_type": "text"
      },
      "source": [
        "<a href=\"https://colab.research.google.com/github/ShivanshGupta1/Linear-Search/blob/main/Linear_Search.ipynb\" target=\"_parent\"><img src=\"https://colab.research.google.com/assets/colab-badge.svg\" alt=\"Open In Colab\"/></a>"
      ]
    },
    {
      "cell_type": "code",
      "metadata": {
        "id": "gtdfW_cI23xz"
      },
      "source": [
        "#linear search -  goes order by order, one by one\n",
        "def linearSearch(num):\n",
        "  list1 = [1,2,3,4,5,6,8,9,10]\n",
        "  for i in range(0,len(list1)):\n",
        "    if list1[i]==num:\n",
        "      print(True)\n",
        "      break\n",
        "linearSearch(10)"
      ],
      "execution_count": null,
      "outputs": []
    }
  ]
}